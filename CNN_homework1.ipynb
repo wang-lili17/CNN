{
  "nbformat": 4,
  "nbformat_minor": 0,
  "metadata": {
    "colab": {
      "provenance": [],
      "gpuType": "T4"
    },
    "kernelspec": {
      "name": "python3",
      "display_name": "Python 3"
    },
    "language_info": {
      "name": "python"
    },
    "accelerator": "GPU"
  },
  "cells": [
    {
      "cell_type": "code",
      "execution_count": null,
      "metadata": {
        "colab": {
          "base_uri": "https://localhost:8080/",
          "height": 73
        },
        "id": "FZVWOp3VvELD",
        "outputId": "65617d79-b8de-413e-de75-81e6363883e2"
      },
      "outputs": [
        {
          "output_type": "display_data",
          "data": {
            "text/plain": [
              "<IPython.core.display.HTML object>"
            ],
            "text/html": [
              "\n",
              "     <input type=\"file\" id=\"files-8fc0770b-ef81-43b3-a807-f65cd16391a4\" name=\"files[]\" multiple disabled\n",
              "        style=\"border:none\" />\n",
              "     <output id=\"result-8fc0770b-ef81-43b3-a807-f65cd16391a4\">\n",
              "      Upload widget is only available when the cell has been executed in the\n",
              "      current browser session. Please rerun this cell to enable.\n",
              "      </output>\n",
              "      <script>// Copyright 2017 Google LLC\n",
              "//\n",
              "// Licensed under the Apache License, Version 2.0 (the \"License\");\n",
              "// you may not use this file except in compliance with the License.\n",
              "// You may obtain a copy of the License at\n",
              "//\n",
              "//      http://www.apache.org/licenses/LICENSE-2.0\n",
              "//\n",
              "// Unless required by applicable law or agreed to in writing, software\n",
              "// distributed under the License is distributed on an \"AS IS\" BASIS,\n",
              "// WITHOUT WARRANTIES OR CONDITIONS OF ANY KIND, either express or implied.\n",
              "// See the License for the specific language governing permissions and\n",
              "// limitations under the License.\n",
              "\n",
              "/**\n",
              " * @fileoverview Helpers for google.colab Python module.\n",
              " */\n",
              "(function(scope) {\n",
              "function span(text, styleAttributes = {}) {\n",
              "  const element = document.createElement('span');\n",
              "  element.textContent = text;\n",
              "  for (const key of Object.keys(styleAttributes)) {\n",
              "    element.style[key] = styleAttributes[key];\n",
              "  }\n",
              "  return element;\n",
              "}\n",
              "\n",
              "// Max number of bytes which will be uploaded at a time.\n",
              "const MAX_PAYLOAD_SIZE = 100 * 1024;\n",
              "\n",
              "function _uploadFiles(inputId, outputId) {\n",
              "  const steps = uploadFilesStep(inputId, outputId);\n",
              "  const outputElement = document.getElementById(outputId);\n",
              "  // Cache steps on the outputElement to make it available for the next call\n",
              "  // to uploadFilesContinue from Python.\n",
              "  outputElement.steps = steps;\n",
              "\n",
              "  return _uploadFilesContinue(outputId);\n",
              "}\n",
              "\n",
              "// This is roughly an async generator (not supported in the browser yet),\n",
              "// where there are multiple asynchronous steps and the Python side is going\n",
              "// to poll for completion of each step.\n",
              "// This uses a Promise to block the python side on completion of each step,\n",
              "// then passes the result of the previous step as the input to the next step.\n",
              "function _uploadFilesContinue(outputId) {\n",
              "  const outputElement = document.getElementById(outputId);\n",
              "  const steps = outputElement.steps;\n",
              "\n",
              "  const next = steps.next(outputElement.lastPromiseValue);\n",
              "  return Promise.resolve(next.value.promise).then((value) => {\n",
              "    // Cache the last promise value to make it available to the next\n",
              "    // step of the generator.\n",
              "    outputElement.lastPromiseValue = value;\n",
              "    return next.value.response;\n",
              "  });\n",
              "}\n",
              "\n",
              "/**\n",
              " * Generator function which is called between each async step of the upload\n",
              " * process.\n",
              " * @param {string} inputId Element ID of the input file picker element.\n",
              " * @param {string} outputId Element ID of the output display.\n",
              " * @return {!Iterable<!Object>} Iterable of next steps.\n",
              " */\n",
              "function* uploadFilesStep(inputId, outputId) {\n",
              "  const inputElement = document.getElementById(inputId);\n",
              "  inputElement.disabled = false;\n",
              "\n",
              "  const outputElement = document.getElementById(outputId);\n",
              "  outputElement.innerHTML = '';\n",
              "\n",
              "  const pickedPromise = new Promise((resolve) => {\n",
              "    inputElement.addEventListener('change', (e) => {\n",
              "      resolve(e.target.files);\n",
              "    });\n",
              "  });\n",
              "\n",
              "  const cancel = document.createElement('button');\n",
              "  inputElement.parentElement.appendChild(cancel);\n",
              "  cancel.textContent = 'Cancel upload';\n",
              "  const cancelPromise = new Promise((resolve) => {\n",
              "    cancel.onclick = () => {\n",
              "      resolve(null);\n",
              "    };\n",
              "  });\n",
              "\n",
              "  // Wait for the user to pick the files.\n",
              "  const files = yield {\n",
              "    promise: Promise.race([pickedPromise, cancelPromise]),\n",
              "    response: {\n",
              "      action: 'starting',\n",
              "    }\n",
              "  };\n",
              "\n",
              "  cancel.remove();\n",
              "\n",
              "  // Disable the input element since further picks are not allowed.\n",
              "  inputElement.disabled = true;\n",
              "\n",
              "  if (!files) {\n",
              "    return {\n",
              "      response: {\n",
              "        action: 'complete',\n",
              "      }\n",
              "    };\n",
              "  }\n",
              "\n",
              "  for (const file of files) {\n",
              "    const li = document.createElement('li');\n",
              "    li.append(span(file.name, {fontWeight: 'bold'}));\n",
              "    li.append(span(\n",
              "        `(${file.type || 'n/a'}) - ${file.size} bytes, ` +\n",
              "        `last modified: ${\n",
              "            file.lastModifiedDate ? file.lastModifiedDate.toLocaleDateString() :\n",
              "                                    'n/a'} - `));\n",
              "    const percent = span('0% done');\n",
              "    li.appendChild(percent);\n",
              "\n",
              "    outputElement.appendChild(li);\n",
              "\n",
              "    const fileDataPromise = new Promise((resolve) => {\n",
              "      const reader = new FileReader();\n",
              "      reader.onload = (e) => {\n",
              "        resolve(e.target.result);\n",
              "      };\n",
              "      reader.readAsArrayBuffer(file);\n",
              "    });\n",
              "    // Wait for the data to be ready.\n",
              "    let fileData = yield {\n",
              "      promise: fileDataPromise,\n",
              "      response: {\n",
              "        action: 'continue',\n",
              "      }\n",
              "    };\n",
              "\n",
              "    // Use a chunked sending to avoid message size limits. See b/62115660.\n",
              "    let position = 0;\n",
              "    do {\n",
              "      const length = Math.min(fileData.byteLength - position, MAX_PAYLOAD_SIZE);\n",
              "      const chunk = new Uint8Array(fileData, position, length);\n",
              "      position += length;\n",
              "\n",
              "      const base64 = btoa(String.fromCharCode.apply(null, chunk));\n",
              "      yield {\n",
              "        response: {\n",
              "          action: 'append',\n",
              "          file: file.name,\n",
              "          data: base64,\n",
              "        },\n",
              "      };\n",
              "\n",
              "      let percentDone = fileData.byteLength === 0 ?\n",
              "          100 :\n",
              "          Math.round((position / fileData.byteLength) * 100);\n",
              "      percent.textContent = `${percentDone}% done`;\n",
              "\n",
              "    } while (position < fileData.byteLength);\n",
              "  }\n",
              "\n",
              "  // All done.\n",
              "  yield {\n",
              "    response: {\n",
              "      action: 'complete',\n",
              "    }\n",
              "  };\n",
              "}\n",
              "\n",
              "scope.google = scope.google || {};\n",
              "scope.google.colab = scope.google.colab || {};\n",
              "scope.google.colab._files = {\n",
              "  _uploadFiles,\n",
              "  _uploadFilesContinue,\n",
              "};\n",
              "})(self);\n",
              "</script> "
            ]
          },
          "metadata": {}
        },
        {
          "output_type": "stream",
          "name": "stdout",
          "text": [
            "Saving Housing.csv to Housing.csv\n"
          ]
        }
      ],
      "source": [
        "from google.colab import files\n",
        "uploaded=files.upload()"
      ]
    },
    {
      "cell_type": "code",
      "source": [
        "import numpy as np\n",
        "import pandas as pd\n"
      ],
      "metadata": {
        "id": "D8STFzZ6vWrw"
      },
      "execution_count": null,
      "outputs": []
    },
    {
      "cell_type": "code",
      "source": [
        "data=pd.read_csv('Housing.csv')"
      ],
      "metadata": {
        "id": "QFiC5tmpvZ8F"
      },
      "execution_count": null,
      "outputs": []
    },
    {
      "cell_type": "code",
      "source": [
        "data.info()"
      ],
      "metadata": {
        "colab": {
          "base_uri": "https://localhost:8080/"
        },
        "id": "qXcC5kenvjnH",
        "outputId": "eae4c3be-4b13-40d3-ead7-f6aca4c83422"
      },
      "execution_count": null,
      "outputs": [
        {
          "output_type": "stream",
          "name": "stdout",
          "text": [
            "<class 'pandas.core.frame.DataFrame'>\n",
            "RangeIndex: 545 entries, 0 to 544\n",
            "Data columns (total 13 columns):\n",
            " #   Column            Non-Null Count  Dtype \n",
            "---  ------            --------------  ----- \n",
            " 0   price             545 non-null    int64 \n",
            " 1   area              545 non-null    int64 \n",
            " 2   bedrooms          545 non-null    int64 \n",
            " 3   bathrooms         545 non-null    int64 \n",
            " 4   stories           545 non-null    int64 \n",
            " 5   mainroad          545 non-null    object\n",
            " 6   guestroom         545 non-null    object\n",
            " 7   basement          545 non-null    object\n",
            " 8   hotwaterheating   545 non-null    object\n",
            " 9   airconditioning   545 non-null    object\n",
            " 10  parking           545 non-null    int64 \n",
            " 11  prefarea          545 non-null    object\n",
            " 12  furnishingstatus  545 non-null    object\n",
            "dtypes: int64(6), object(7)\n",
            "memory usage: 55.5+ KB\n"
          ]
        }
      ]
    },
    {
      "cell_type": "code",
      "source": [
        "y=data['price'].copy()\n",
        "X=data.drop('price',axis=1).copy()"
      ],
      "metadata": {
        "id": "OHVfzcBywAHR"
      },
      "execution_count": null,
      "outputs": []
    },
    {
      "cell_type": "code",
      "source": [
        "from sklearn.preprocessing import StandardScaler\n",
        "from sklearn.model_selection import train_test_split\n",
        "from sklearn.linear_model import LinearRegression\n",
        "from sklearn.ensemble import RandomForestRegressor, GradientBoostingRegressor\n",
        "from sklearn.metrics import mean_squared_error, r2_score\n",
        "from sklearn.preprocessing import OneHotEncoder"
      ],
      "metadata": {
        "id": "eRJHmyNawGeS"
      },
      "execution_count": null,
      "outputs": []
    },
    {
      "cell_type": "code",
      "source": [
        "# Split data: 70% train, 15% validation, 15% test\n",
        "X_train, X_temp, y_train, y_temp = train_test_split(X, y, test_size=0.3, random_state=42)\n",
        "X_val, X_test, y_val, y_test = train_test_split(X_temp, y_temp, test_size=0.5, random_state=42)"
      ],
      "metadata": {
        "id": "6_1aV44rylsC"
      },
      "execution_count": null,
      "outputs": []
    },
    {
      "cell_type": "code",
      "source": [
        "numerical_cols = ['area', 'bedrooms', 'bathrooms', 'stories', 'parking']\n",
        "categorical_cols = ['mainroad', 'guestroom', 'basement', 'hotwaterheating',\n",
        "                    'airconditioning', 'prefarea', 'furnishingstatus']\n",
        "\n",
        "\n",
        "numerical_transformer = StandardScaler()\n",
        "X_train[numerical_cols] = numerical_transformer.fit_transform(X_train[numerical_cols])\n",
        "X_test[numerical_cols] = numerical_transformer.transform(X_test[numerical_cols])\n",
        "X_val[numerical_cols] = numerical_transformer.transform(X_val[numerical_cols])\n",
        "\n",
        "categorical_transformer = OneHotEncoder(sparse_output=False)\n",
        "X_train_encoded = categorical_transformer.fit_transform(X_train[categorical_cols])\n",
        "X_test_encoded = categorical_transformer.transform(X_test[categorical_cols])\n",
        "X_val_encoded = categorical_transformer.transform(X_val[categorical_cols])\n",
        "X_train_encoded = pd.DataFrame(X_train_encoded, columns=categorical_transformer.get_feature_names_out(categorical_cols), index=X_train.index)\n",
        "X_test_encoded = pd.DataFrame(X_test_encoded, columns=categorical_transformer.get_feature_names_out(categorical_cols), index=X_test.index)\n",
        "X_val_encoded = pd.DataFrame(X_val_encoded, columns=categorical_transformer.get_feature_names_out(categorical_cols), index=X_val.index)\n",
        "X_train = X_train.drop(columns=categorical_cols).join(X_train_encoded)\n",
        "X_test = X_test.drop(columns=categorical_cols).join(X_test_encoded)\n",
        "X_val = X_val.drop(columns=categorical_cols).join(X_val_encoded)"
      ],
      "metadata": {
        "id": "Ehn6DHmTzQ50"
      },
      "execution_count": null,
      "outputs": []
    },
    {
      "cell_type": "code",
      "source": [
        "def evaluate_model(model, X_train, y_train, X_val, y_val, X_test, y_test):\n",
        "    model.fit(X_train, y_train)\n",
        "\n",
        "    # Train evaluation\n",
        "    train_pred = model.predict(X_train)\n",
        "    train_rmse = np.sqrt(mean_squared_error(y_train, train_pred))\n",
        "    train_r2 = r2_score(y_train, train_pred)\n",
        "\n",
        "    # Validation evaluation\n",
        "    val_pred = model.predict(X_val)\n",
        "    val_rmse = np.sqrt(mean_squared_error(y_val, val_pred))\n",
        "    val_r2 = r2_score(y_val, val_pred)\n",
        "\n",
        "    # Test evaluation\n",
        "    test_pred = model.predict(X_test)\n",
        "    test_rmse = np.sqrt(mean_squared_error(y_test, test_pred))\n",
        "    test_r2 = r2_score(y_test, test_pred)\n",
        "\n",
        "    return train_rmse, train_r2, val_rmse, val_r2, test_rmse, test_r2\n"
      ],
      "metadata": {
        "id": "uxtjZvQZbKr6"
      },
      "execution_count": null,
      "outputs": []
    },
    {
      "cell_type": "code",
      "source": [
        "# 1. Linear Regression\n",
        "lr = LinearRegression()\n",
        "lr_results = evaluate_model(lr, X_train, y_train, X_val, y_val, X_test, y_test)\n",
        "\n",
        "# 2. Random Forest\n",
        "rf = RandomForestRegressor(random_state=42)\n",
        "rf_results = evaluate_model(rf, X_train, y_train, X_val, y_val, X_test, y_test)\n",
        "\n",
        "# 3. Gradient Boosting\n",
        "gb = GradientBoostingRegressor(random_state=42)\n",
        "gb_results = evaluate_model(gb, X_train, y_train, X_val, y_val, X_test, y_test)\n",
        "\n",
        "# Comparing results\n",
        "results = pd.DataFrame({\n",
        "    'Model': ['Linear Regression', 'Random Forest', 'Gradient Boosting'],\n",
        "    'Train RMSE': [lr_results[0], rf_results[0], gb_results[0]],\n",
        "    'Train R²': [lr_results[1], rf_results[1], gb_results[1]],\n",
        "    'Validation RMSE': [lr_results[2], rf_results[2], gb_results[2]],\n",
        "    'Validation R²': [lr_results[3], rf_results[3], gb_results[3]],\n",
        "    'Test RMSE': [lr_results[4], rf_results[4], gb_results[4]],\n",
        "    'Test R²': [lr_results[5], rf_results[5], gb_results[5]]\n",
        "})\n",
        "\n",
        "print(results)\n"
      ],
      "metadata": {
        "colab": {
          "base_uri": "https://localhost:8080/"
        },
        "id": "CtVPhDq0bPzx",
        "outputId": "53a3cb94-7346-45bb-ee15-318bd7031b8e"
      },
      "execution_count": null,
      "outputs": [
        {
          "output_type": "stream",
          "name": "stdout",
          "text": [
            "               Model     Train RMSE  Train R²  Validation RMSE  Validation R²  \\\n",
            "0  Linear Regression  981751.180202  0.693199     1.336980e+06       0.586188   \n",
            "1      Random Forest  397427.626725  0.949723     1.379318e+06       0.559565   \n",
            "2  Gradient Boosting  625916.729260  0.875294     1.242725e+06       0.642478   \n",
            "\n",
            "      Test RMSE   Test R²  \n",
            "0  1.121839e+06  0.706844  \n",
            "1  1.318334e+06  0.595155  \n",
            "2  1.295560e+06  0.609022  \n"
          ]
        }
      ]
    },
    {
      "cell_type": "code",
      "source": [
        "from sklearn.model_selection import GridSearchCV\n",
        "from sklearn.ensemble import GradientBoostingRegressor\n",
        "\n",
        "param_grid = {\n",
        "    'n_estimators': [100, 200],\n",
        "    'learning_rate': [0.05, 0.1],\n",
        "    'max_depth': [3, 5],\n",
        "    'subsample': [0.8, 1.0],\n",
        "    'min_samples_split': [2, 5]\n",
        "}\n",
        "\n",
        "gb = GradientBoostingRegressor(random_state=42)\n",
        "\n",
        "grid_search = GridSearchCV(gb, param_grid, cv=5, scoring='r2', n_jobs=-1, verbose=1)\n",
        "grid_search.fit(X_train, y_train)\n",
        "\n",
        "best_gb = grid_search.best_estimator_\n",
        "print(\"Best Parameters:\", grid_search.best_params_)\n"
      ],
      "metadata": {
        "colab": {
          "base_uri": "https://localhost:8080/"
        },
        "id": "WajCiXA_IJae",
        "outputId": "34497342-1143-45ec-fd1f-48a72b382675"
      },
      "execution_count": null,
      "outputs": [
        {
          "output_type": "stream",
          "name": "stdout",
          "text": [
            "Fitting 5 folds for each of 32 candidates, totalling 160 fits\n",
            "Best Parameters: {'learning_rate': 0.05, 'max_depth': 3, 'min_samples_split': 5, 'n_estimators': 100, 'subsample': 0.8}\n"
          ]
        }
      ]
    },
    {
      "cell_type": "code",
      "source": [
        "best_gb = GradientBoostingRegressor(\n",
        "    subsample=0.8,\n",
        "    n_estimators=100,\n",
        "    min_samples_split=5,\n",
        "    max_depth=3,\n",
        "    learning_rate=0.05,\n",
        "    random_state=42\n",
        ")\n",
        "\n",
        "best_gb.fit(X_train, y_train)\n",
        "\n",
        "#best_gb = GradientBoostingRegressor(random_state=42)\n",
        "best_gb_results = evaluate_model(best_gb, X_train, y_train, X_val, y_val, X_test, y_test)\n",
        "\n",
        "print(\"Optimized GB results:\",best_gb_results)\n"
      ],
      "metadata": {
        "colab": {
          "base_uri": "https://localhost:8080/"
        },
        "id": "JbbJ58vLJ2md",
        "outputId": "bf8a54d6-d5db-4dce-ec9f-2fe5e1dfb1ec"
      },
      "execution_count": null,
      "outputs": [
        {
          "output_type": "stream",
          "name": "stdout",
          "text": [
            "Optimized GB results: (np.float64(729428.1864604068), 0.8306368133307012, np.float64(1238218.513857514), 0.6450661079065674, np.float64(1302723.318843407), 0.6046866029831011)\n"
          ]
        }
      ]
    },
    {
      "cell_type": "code",
      "source": [
        "import joblib\n",
        "\n",
        "# Save the best model\n",
        "joblib.dump(best_gb, \"best_gb_model.pkl\")\n",
        "\n",
        "# Load for inference\n",
        "loaded_model = joblib.load(\"best_gb_model.pkl\")\n",
        "\n",
        "# Evaluate on test data\n",
        "y_pred = loaded_model.predict(X_test)\n",
        "test_rmse = np.sqrt(mean_squared_error(y_test, y_pred))\n",
        "test_r2 = r2_score(y_test, y_pred)\n",
        "\n",
        "print(\"Test RMSE:\", test_rmse)\n",
        "print(\"Test R²:\", test_r2)"
      ],
      "metadata": {
        "colab": {
          "base_uri": "https://localhost:8080/"
        },
        "id": "XpWE_wCeJVYo",
        "outputId": "1047b6df-8bcb-4bd5-d649-ba717288576d"
      },
      "execution_count": null,
      "outputs": [
        {
          "output_type": "stream",
          "name": "stdout",
          "text": [
            "Test RMSE: 1302723.318843407\n",
            "Test R²: 0.6046866029831011\n"
          ]
        }
      ]
    },
    {
      "cell_type": "code",
      "source": [
        "import matplotlib.pyplot as plt\n",
        "\n",
        "train_errors = [mean_squared_error(y_train, y_pred) for y_pred in best_gb.staged_predict(X_train)]\n",
        "val_errors = [mean_squared_error(y_val, y_pred) for y_pred in best_gb.staged_predict(X_val)]\n",
        "\n",
        "train_rmse = np.sqrt(train_errors)\n",
        "val_rmse = np.sqrt(val_errors)\n",
        "\n",
        "# Plot loss curve\n",
        "plt.figure(figsize=(8, 5))\n",
        "plt.plot(train_rmse, label=\"Train RMSE\", marker=\"o\")\n",
        "plt.plot(val_rmse, label=\"Validation RMSE\", marker=\"s\")\n",
        "plt.xlabel(\"Number of Trees\")\n",
        "plt.ylabel(\"RMSE\")\n",
        "plt.title(\"Gradient Boosting Learning Curve\")\n",
        "plt.legend()\n",
        "plt.show()\n"
      ],
      "metadata": {
        "colab": {
          "base_uri": "https://localhost:8080/",
          "height": 487
        },
        "id": "NcHFERHHe0gm",
        "outputId": "d4c16039-09f1-48df-e0df-3fe94969f5a2"
      },
      "execution_count": null,
      "outputs": [
        {
          "output_type": "display_data",
          "data": {
            "text/plain": [
              "<Figure size 800x500 with 1 Axes>"
            ],
            "image/png": "[encoded data removed]"
          },
          "metadata": {}
        }
      ]
    }
  ]
}